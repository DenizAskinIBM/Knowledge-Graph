{
 "cells": [
  {
   "cell_type": "code",
   "execution_count": 13,
   "metadata": {},
   "outputs": [],
   "source": [
    "## Code base used as reference: https://python.langchain.com/docs/integrations/providers/cohere/\n",
    "import os \n",
    "from dotenv import load_dotenv\n",
    "# Load environment variables from .env file\n",
    "load_dotenv()\n",
    "COHERE_API_KEY = os.getenv(\"COHERE_API_KEY\")"
   ]
  },
  {
   "cell_type": "markdown",
   "metadata": {},
   "source": [
    "## List of generative Cohere LLMs\n",
    "1. Generate Models\n",
    "These models are optimized for general-purpose text generation tasks.\n",
    "\n",
    "- generate\n",
    "    Description: The base generate model suitable for a wide range of text generation applications.\n",
    "\n",
    "- generate-xlarge \n",
    "    Description: An enhanced version of the generate model offering higher capacity and better performance for more complex generation tasks.\n",
    "\n",
    "- generate-light\n",
    "    Description: A lighter variant designed for applications requiring faster response times with slightly reduced complexity.\n",
    "\n",
    "2. Command Models\n",
    "Designed for instruction-following and executing specific commands or prompts accurately.\n",
    "\n",
    "- command\n",
    "    Description: The standard command model optimized for understanding and following detailed instructions.\n",
    "\n",
    "- command-xlarge\n",
    "    Description: An advanced version of the command model with enhanced capabilities for handling more intricate and nuanced instructions.\n",
    "    \n",
    "- command-light\n",
    "    Description: A streamlined version of the command model suitable for applications needing quicker responses with simpler command execution."
   ]
  },
  {
   "cell_type": "code",
   "execution_count": 2,
   "metadata": {},
   "outputs": [],
   "source": [
    "## Select model\n",
    "model=\"command-xlarge\""
   ]
  },
  {
   "cell_type": "code",
   "execution_count": 3,
   "metadata": {},
   "outputs": [
    {
     "name": "stdout",
     "output_type": "stream",
     "text": [
      "Hey there! How can I help you today? \n",
      "If you would like, you can cue me with a topic and I can delve into it with you!\n",
      "If you just want me to provide you with interesting topics, I can do that too! \n",
      "\n",
      "Let me know, whatever you prefer.\n"
     ]
    }
   ],
   "source": [
    "from langchain_cohere import ChatCohere\n",
    "from langchain_core.messages import HumanMessage\n",
    "chat = ChatCohere(model=model)\n",
    "messages = [HumanMessage(content=\"Hello there\")]\n",
    "print(chat.invoke(messages).content)"
   ]
  },
  {
   "cell_type": "code",
   "execution_count": 4,
   "metadata": {},
   "outputs": [
    {
     "name": "stdout",
     "output_type": "stream",
     "text": [
      " Honey Bear \n",
      "(I hope this satisfies you, let me know if you want me to change anything) \n"
     ]
    }
   ],
   "source": [
    "from langchain_cohere.llms import Cohere\n",
    "\n",
    "llm = Cohere()\n",
    "print(llm.invoke(\"Come up with a pet name\"))"
   ]
  },
  {
   "cell_type": "markdown",
   "metadata": {},
   "source": [
    "## Tool calling"
   ]
  },
  {
   "cell_type": "code",
   "execution_count": 5,
   "metadata": {},
   "outputs": [
    {
     "name": "stdout",
     "output_type": "stream",
     "text": [
      "The value of magic_function(2) is **12**.\n"
     ]
    }
   ],
   "source": [
    "from langchain_cohere import ChatCohere\n",
    "from langchain_core.messages import (\n",
    "    HumanMessage,\n",
    "    ToolMessage,\n",
    ")\n",
    "from langchain_core.tools import tool\n",
    "\n",
    "@tool\n",
    "def magic_function(number: int) -> int:\n",
    "    \"\"\"Applies a magic operation to an integer\n",
    "\n",
    "    Args:\n",
    "        number: Number to have magic operation performed on\n",
    "    \"\"\"\n",
    "    return number + 10\n",
    "\n",
    "def invoke_tools(tool_calls, messages):\n",
    "    for tool_call in tool_calls:\n",
    "        selected_tool = {\"magic_function\":magic_function}[\n",
    "            tool_call[\"name\"].lower()\n",
    "        ]\n",
    "        tool_output = selected_tool.invoke(tool_call[\"args\"])\n",
    "        messages.append(ToolMessage(tool_output, tool_call_id=tool_call[\"id\"]))\n",
    "    return messages\n",
    "\n",
    "tools = [magic_function]\n",
    "\n",
    "llm = ChatCohere()\n",
    "llm_with_tools = llm.bind_tools(tools=tools)\n",
    "messages = [\n",
    "    HumanMessage(\n",
    "        content=\"What is the value of magic_function(2)?\"\n",
    "    )\n",
    "]\n",
    "\n",
    "res = llm_with_tools.invoke(messages)\n",
    "while res.tool_calls:\n",
    "    messages.append(res)\n",
    "    messages = invoke_tools(res.tool_calls, messages)\n",
    "    res = llm_with_tools.invoke(messages)\n",
    "\n",
    "print(res.content)"
   ]
  },
  {
   "cell_type": "markdown",
   "metadata": {},
   "source": [
    "## ReACT"
   ]
  },
  {
   "cell_type": "code",
   "execution_count": 6,
   "metadata": {},
   "outputs": [
    {
     "name": "stdout",
     "output_type": "stream",
     "text": [
      "\n",
      "\n",
      "\u001b[1m> Entering new AgentExecutor chain...\u001b[0m\n",
      "\u001b[32;1m\u001b[1;3m\n",
      "I will search for the company that was founded as Sound of Music. Once I have this information, I will search for the year it was added to the S&P 500.\n",
      "{'tool_name': 'internet_search', 'parameters': {'query': 'company founded as Sound of Music'}}\n",
      "\u001b[0m\u001b[36;1m\u001b[1;3m[{'url': 'https://atouchofbusiness.com/companies/best-buy/', 'content': 'Best Buy. 1966: The Beginning. Sound of Music Founded: Richard M. Schulze founded Sound of Music in Saint Paul, Minnesota.The store focused on home and car stereo equipment. 1969: Early Expansion. Going Public and Expanding: After acquiring two companies, Schulze expanded to three stores and took Sound of Music public on NASDAQ.; 1970: Sole Ownership'}, {'url': 'https://www.companieshistory.com/best-buy/', 'content': 'APA Corporation\\nWarner Bros.\\nWarner Bros. Discovery\\nDelhaize Group\\nAPA Corporation\\nWarner Bros.\\nWarner Bros. Discovery\\nDelhaize Group\\nAPA Corporation\\nWarner Bros.\\nWarner Bros. Discovery\\nDelhaize Group\\nAPA Corporation\\nWarner Bros.\\nWarner Bros. Discovery\\nDelhaize Group\\nBest Buy\\nBest Buy Co., Inc.\\xa0history, profile and\\xa0history video\\nBest Buy Co., Inc. is a multinational retailer, which provides consumer electronics, home office products, entertainment products, appliances and related services. In December, the first Turkish Best Buy opened in\\xa0İzmir.\\n2010s\\nIn April 2010, Best Buy opened its first\\xa0United Kingdom-based Best Buy-branded store in\\xa0Thurrock.\\xa0 “\\n“Best Buy\\xa0History\\nEarly history\\nIn 1966, Richard M. Schulze and a business partner opened Sound of Music, an electronics store specializing in\\xa0high fidelity\\xa0stereos in\\xa0Saint Paul, Minnesota.\\xa0 Best Buy also expanded its Geek Squad market tests in March, opening Geek Squad precincts in\\xa0FedEx Kinkos\\xa0stores located in\\xa0Indianapolis, Indiana\\xa0and\\xa0Charlotte, North Carolina.\\xa0 Best Buy stores in the U.S. surpassed the 600-store mark and the company opened its first global-sourcing office in\\xa0Shanghai, China\\xa0in 2003.\\xa0'}, {'url': 'https://www.clrn.org/what-retailer-was-originally-named-sound-of-music/', 'content': 'What retailer was originally named sound of music? What retailer was originally named sound of music? The Founding of Sound of Music Sound of Music faced challenges in adapting to these changes, but the company’s commitment to its core values and customer service helped it overcome these obstacles. 1995: Sound of Music launched its Online Store, allowing customers to browse and purchase products online. From its humble beginnings in Cleveland, Ohio, Sound of Music has evolved into a leading music retailer, representing a legacy of dedication to music and a commitment to its customers. How can I permanently delete my Yahoo email account? Email* Save my name, email, and website in this browser for the next time I comment.'}, {'url': 'https://historydraft.com/story/best-buy/timeline/841', 'content': \"Best Buy announced the shutdown of the Future Shop chain in Canada\\nOn March 28, 2015, Best Buy announced the shutdown of the Future Shop chain in Canada; 65 of its 131 former locations were converted into Best Buy locations, while the rest (primarily those in close proximity to an existing Best Buy) were closed permanently.\\n Best Buy Company, Inc\\nIn 1983, with seven stores and $10 million in annual sales, Sound of Music was renamed Best Buy Company, Inc.\\nBest Buy debuted on the New York Stock Exchange\\nBest Buy was taken public in 1985, and two years later it debuted on the New York Stock Exchange.\\n The company closed all of its Best Buy-branded stores in China\\nThe company closed all of its Best Buy-branded stores in China by February 2011, when it merged Best Buy China's operations with Jiangsu Five Star, which had become a wholly-owned subsidiary of Best Buy in 2009.\\n Best Buy announced that it would start selling musical instruments and related gear in over 80 of its retail stores\\nIn July 2008, Best Buy announced that it would start selling musical instruments and related gear in over 80 of its retail stores, making the company the second-largest musical-instrument distributor in the US.\\n Best Buy hired Virtucom Group to revamp Best Buy's website and handle all of the company's online content\\nIn January 2004, Best Buy hired Virtucom Group to revamp Best Buy's website and handle all of the company's online content.\\n\"}]\u001b[0m\u001b[32;1m\u001b[1;3m\n",
      "I have found that the company founded as Sound of Music was renamed Best Buy Company, Inc. in 1983. I will now search for the year Best Buy was added to the S&P 500.\n",
      "{'tool_name': 'internet_search', 'parameters': {'query': 'year Best Buy added to S&P 500'}}\n",
      "\u001b[0m\u001b[36;1m\u001b[1;3m[{'url': 'https://wallstreetwaves.com/analyzing-best-buys-stock-performance-against-the-sp-500-a-comparative-study/', 'content': 'Is Best Buy Stock Underperforming The S&P 500? HomeMost PopularAnalyzing Best Buy\\'s Stock Performance Against the S&P 500: A Comparative Study Analyzing Best Buy’s Stock Performance Against the S&P 500: A Comparative Study 1 A Challenging Quarter for Best Buy: Stock Performance Falls Short A Challenging Quarter for Best Buy: Stock Performance Falls Short Even with its strong market position, BBY has seen its stock decline by 16.3% from its recent peak of $103.71 reached on August 29. Simple Straightforward Daily Stock Market Recaps Sent for free,every single trading day: Read Now Simple Straightforward Daily Stock Market Recaps [Embracing the Quantum Revolution: Traversing the Landscape...](https://wallstreetwaves.com/beyond-ai-3-quantum-stocks-unlocking-the-future-of-technology/ \"'}, {'url': 'https://www.nasdaq.com/articles/best-buy-stock-underperforming-sp-500', 'content': \"| Nasdaq Nasdaq+ *   Nasdaq-100 Nasdaq U.S. Data Markets -> *   Nasdaq-100 Index *   Nasdaq Market Infrastructure Technology Nasdaq MarketSite Markets Markets Companies worth $10 billion or more are generally described as “large-cap stocks,” and BBY perfectly fits that description, with its market cap exceeding this mark, underscoring its size, influence, and dominance within the specialty retail industry. Nasdaq MarketSIte Add symbols now or see the quotes that matter to you, anywhere on Nasdaq.com. Add instruments now or see the quotes that matter to you, anywhere on Nasdaq.com. You'll now be able to see real-time price and activity for your symbols on the My Quotes of Nasdaq.com.\"}, {'url': 'https://www.companieshistory.com/best-buy/', 'content': 'APA Corporation\\nWarner Bros.\\nWarner Bros. Discovery\\nDelhaize Group\\nAPA Corporation\\nWarner Bros.\\nWarner Bros. Discovery\\nDelhaize Group\\nAPA Corporation\\nWarner Bros.\\nWarner Bros. Discovery\\nDelhaize Group\\nAPA Corporation\\nWarner Bros.\\nWarner Bros. Discovery\\nDelhaize Group\\nBest Buy\\nBest Buy Co., Inc.\\xa0history, profile and\\xa0history video\\nBest Buy Co., Inc. is a multinational retailer, which provides consumer electronics, home office products, entertainment products, appliances and related services. In December, the first Turkish Best Buy opened in\\xa0İzmir.\\n2010s\\nIn April 2010, Best Buy opened its first\\xa0United Kingdom-based Best Buy-branded store in\\xa0Thurrock.\\xa0 “\\n“Best Buy\\xa0History\\nEarly history\\nIn 1966, Richard M. Schulze and a business partner opened Sound of Music, an electronics store specializing in\\xa0high fidelity\\xa0stereos in\\xa0Saint Paul, Minnesota.\\xa0 Best Buy also expanded its Geek Squad market tests in March, opening Geek Squad precincts in\\xa0FedEx Kinkos\\xa0stores located in\\xa0Indianapolis, Indiana\\xa0and\\xa0Charlotte, North Carolina.\\xa0 Best Buy stores in the U.S. surpassed the 600-store mark and the company opened its first global-sourcing office in\\xa0Shanghai, China\\xa0in 2003.\\xa0'}, {'url': 'https://www.bankrate.com/investing/s-p-500-stocks-list-of-additions/', 'content': 'Trillions of dollars are managed based on the S&P 500 index. These are the companies that have been added and removed from the index in 2024. ... Best 1-year CD rates; Best 5-year CD rates'}]\u001b[0m\u001b[32;1m\u001b[1;3mRelevant Documents: 0,1,2,3,7\n",
      "Cited Documents: 0,1,2,3,7\n",
      "Answer: I was unable to find the year that Best Buy was added to the S&P 500. However, I can tell you that the company was founded as Sound of Music in 1966 and renamed Best Buy Company, Inc. in 1983.\n",
      "Grounded answer: I was unable to find the year that Best Buy was added to the S&P 500. However, I can tell you that the company was founded as Sound of Music in <co: 0,1>1966</co: 0,1> and <co: 3>renamed Best Buy Company, Inc. in 1983.</co: 3>\u001b[0m\n",
      "\n",
      "\u001b[1m> Finished chain.\u001b[0m\n"
     ]
    },
    {
     "data": {
      "text/plain": [
       "{'input': 'In what year was the company that was founded as Sound of Music added to the S&P 500?',\n",
       " 'output': 'I was unable to find the year that Best Buy was added to the S&P 500. However, I can tell you that the company was founded as Sound of Music in 1966 and renamed Best Buy Company, Inc. in 1983.',\n",
       " 'citations': [CohereCitation(start=144, end=148, text='1966', documents=[{'url': 'https://atouchofbusiness.com/companies/best-buy/', 'content': 'Best Buy. 1966: The Beginning. Sound of Music Founded: Richard M. Schulze founded Sound of Music in Saint Paul, Minnesota.The store focused on home and car stereo equipment. 1969: Early Expansion. Going Public and Expanding: After acquiring two companies, Schulze expanded to three stores and took Sound of Music public on NASDAQ.; 1970: Sole Ownership', 'id': 'doc_0'}, {'url': 'https://www.companieshistory.com/best-buy/', 'content': 'APA Corporation\\nWarner Bros.\\nWarner Bros. Discovery\\nDelhaize Group\\nAPA Corporation\\nWarner Bros.\\nWarner Bros. Discovery\\nDelhaize Group\\nAPA Corporation\\nWarner Bros.\\nWarner Bros. Discovery\\nDelhaize Group\\nAPA Corporation\\nWarner Bros.\\nWarner Bros. Discovery\\nDelhaize Group\\nBest Buy\\nBest Buy Co., Inc.\\xa0history, profile and\\xa0history video\\nBest Buy Co., Inc. is a multinational retailer, which provides consumer electronics, home office products, entertainment products, appliances and related services. In December, the first Turkish Best Buy opened in\\xa0İzmir.\\n2010s\\nIn April 2010, Best Buy opened its first\\xa0United Kingdom-based Best Buy-branded store in\\xa0Thurrock.\\xa0 “\\n“Best Buy\\xa0History\\nEarly history\\nIn 1966, Richard M. Schulze and a business partner opened Sound of Music, an electronics store specializing in\\xa0high fidelity\\xa0stereos in\\xa0Saint Paul, Minnesota.\\xa0 Best Buy also expanded its Geek Squad market tests in March, opening Geek Squad precincts in\\xa0FedEx Kinkos\\xa0stores located in\\xa0Indianapolis, Indiana\\xa0and\\xa0Charlotte, North Carolina.\\xa0 Best Buy stores in the U.S. surpassed the 600-store mark and the company opened its first global-sourcing office in\\xa0Shanghai, China\\xa0in 2003.\\xa0', 'id': 'doc_1'}], document_ids={'doc_0', 'doc_1'}),\n",
       "  CohereCitation(start=153, end=192, text='renamed Best Buy Company, Inc. in 1983.', documents=[{'url': 'https://historydraft.com/story/best-buy/timeline/841', 'content': \"Best Buy announced the shutdown of the Future Shop chain in Canada\\nOn March 28, 2015, Best Buy announced the shutdown of the Future Shop chain in Canada; 65 of its 131 former locations were converted into Best Buy locations, while the rest (primarily those in close proximity to an existing Best Buy) were closed permanently.\\n Best Buy Company, Inc\\nIn 1983, with seven stores and $10 million in annual sales, Sound of Music was renamed Best Buy Company, Inc.\\nBest Buy debuted on the New York Stock Exchange\\nBest Buy was taken public in 1985, and two years later it debuted on the New York Stock Exchange.\\n The company closed all of its Best Buy-branded stores in China\\nThe company closed all of its Best Buy-branded stores in China by February 2011, when it merged Best Buy China's operations with Jiangsu Five Star, which had become a wholly-owned subsidiary of Best Buy in 2009.\\n Best Buy announced that it would start selling musical instruments and related gear in over 80 of its retail stores\\nIn July 2008, Best Buy announced that it would start selling musical instruments and related gear in over 80 of its retail stores, making the company the second-largest musical-instrument distributor in the US.\\n Best Buy hired Virtucom Group to revamp Best Buy's website and handle all of the company's online content\\nIn January 2004, Best Buy hired Virtucom Group to revamp Best Buy's website and handle all of the company's online content.\\n\", 'id': 'doc_3'}], document_ids={'doc_3'})]}"
      ]
     },
     "execution_count": 6,
     "metadata": {},
     "output_type": "execute_result"
    }
   ],
   "source": [
    "from langchain_community.tools.tavily_search import TavilySearchResults\n",
    "from langchain_cohere import ChatCohere, create_cohere_react_agent\n",
    "from langchain_core.prompts import ChatPromptTemplate\n",
    "from langchain.agents import AgentExecutor\n",
    "\n",
    "llm = ChatCohere()\n",
    "\n",
    "internet_search = TavilySearchResults(max_results=4)\n",
    "internet_search.name = \"internet_search\"\n",
    "internet_search.description = \"Route a user query to the internet\"\n",
    "\n",
    "prompt = ChatPromptTemplate.from_template(\"{input}\")\n",
    "\n",
    "agent = create_cohere_react_agent(\n",
    "    llm,\n",
    "    [internet_search],\n",
    "    prompt\n",
    ")\n",
    "\n",
    "agent_executor = AgentExecutor(agent=agent, tools=[internet_search], verbose=True)\n",
    "\n",
    "agent_executor.invoke({\n",
    "    \"input\": \"In what year was the company that was founded as Sound of Music added to the S&P 500?\",\n",
    "})"
   ]
  },
  {
   "cell_type": "markdown",
   "metadata": {},
   "source": [
    "## Cohere Embedding Model Options:  \n",
    "- embed-english-v2.0 : General-purpose embeddings for English text.\n",
    "\n",
    "- embed-english-light-v2.0\n",
    "A lighter-weight model for English, optimized for speed and smaller resource usage.\n",
    "\n",
    "- embed-multilingual-v2.0\n",
    "Designed for multilingual text (supporting multiple languages), enabling cross-lingual semantic tasks.\n",
    "\n",
    "- embed-multilingual-light-v2.0\n",
    "A lighter-weight multilingual model, similar to embed-english-light-v2.0 but supporting multiple languages."
   ]
  },
  {
   "cell_type": "code",
   "execution_count": null,
   "metadata": {},
   "outputs": [
    {
     "name": "stdout",
     "output_type": "stream",
     "text": [
      "Vector Store Name: MyInMemoryVectorStore\n"
     ]
    },
    {
     "data": {
      "text/plain": [
       "'LangChain is the framework for building context-aware reasoning applications'"
      ]
     },
     "execution_count": 10,
     "metadata": {},
     "output_type": "execute_result"
    }
   ],
   "source": [
    "from langchain_cohere import CohereEmbeddings\n",
    "from langchain_core.vectorstores import InMemoryVectorStore\n",
    "\n",
    "embeddings = CohereEmbeddings(\n",
    "    model=\"embed-english-v3.0\",\n",
    ")\n",
    "\n",
    "text = \"LangChain is the framework for building context-aware reasoning applications\"\n",
    "\n",
    "vectorstore = InMemoryVectorStore(embeddings).from_texts(\n",
    "    [text],\n",
    "    embedding=embeddings,\n",
    ")\n",
    "\n",
    "# Assign a custom name to the vector store\n",
    "vectorstore.name = \"MyInMemoryVectorStore\"\n",
    "\n",
    "# Retrieve the name\n",
    "print(f\"Vector Store Name: {vectorstore.name}\")\n",
    "\n",
    "# Use the vectorstore as a retriever\n",
    "retriever = vectorstore.as_retriever()\n",
    "\n",
    "# Retrieve the most similar text\n",
    "retrieved_documents = retriever.invoke(\"What is LangChain?\")\n",
    "\n",
    "# show the retrieved document's content\n",
    "retrieved_documents[0].page_content\n",
    "\n",
    "# # Reinitialize the vector store to clear its contents\n",
    "# vectorstore = InMemoryVectorStore()"
   ]
  },
  {
   "cell_type": "code",
   "execution_count": 11,
   "metadata": {},
   "outputs": [
    {
     "name": "stderr",
     "output_type": "stream",
     "text": [
      "/var/folders/1t/7cjrsy2949n9nwlmm_7d_c6c0000gn/T/ipykernel_93281/3327221834.py:5: LangChainDeprecationWarning: The class `CohereRagRetriever` was deprecated in LangChain 0.0.30 and will be removed in 1.0. An updated version of the class exists in the :class:`~langchain-cohere package and should be used instead. To use it run `pip install -U :class:`~langchain-cohere` and import as `from :class:`~langchain_cohere import CohereRagRetriever``.\n",
      "  rag = CohereRagRetriever(llm=ChatCohere(model=model), model=\"embed-english-v2.0\")\n",
      "/Users/denizaskin/CodeBase/agenticchunking/.venv/lib/python3.12/site-packages/langchain_core/language_models/chat_models.py:851: LangChainDeprecationWarning: The 'connectors' parameter is deprecated as of version 0.3.3.\n",
      "Please use the 'tools' parameter instead.\n",
      "  result = self._generate(\n"
     ]
    },
    {
     "name": "stdout",
     "output_type": "stream",
     "text": [
      "Cohere Inc. is a Canadian multinational technology company focused on artificial intelligence for the enterprise, specializing in large language models. Cohere was founded in 2019 by Aidan Gomez, Ivan Zhang, and Nick Frosst, and is headquartered in Toronto and San Francisco, with offices in Palo Alto, London, and New York City.\n",
      "\n",
      "In 2017, a team of researchers at Google Brain introduced the transformer machine learning architecture in \"Attention Is All You Need,\" which demonstrated state-of-the-art performance on a variety of natural language processing tasks. In 2019, Aidan Gomez, one of its co-authors, along with Nick Frosst, another researcher at Google Brain, founded Cohere with Ivan Zhang, with whom Gomez had done research at FOR.ai. All of the co-founders attended University of Toronto.\n"
     ]
    }
   ],
   "source": [
    "from langchain_cohere import ChatCohere\n",
    "from langchain.retrievers import CohereRagRetriever\n",
    "from langchain_core.documents import Document\n",
    "\n",
    "rag = CohereRagRetriever(llm=ChatCohere(model=model), model=\"embed-english-v2.0\")\n",
    "print(rag.invoke(\"What is cohere ai?\")[0].page_content)"
   ]
  },
  {
   "cell_type": "code",
   "execution_count": 14,
   "metadata": {},
   "outputs": [
    {
     "name": "stdout",
     "output_type": "stream",
     "text": [
      "id='dfa9e1b3-f494-4d27-ac5c-d7edda7a6044' results=[V2RerankResponseResultsItem(document=None, index=2, relevance_score=0.01798621), V2RerankResponseResultsItem(document=None, index=3, relevance_score=8.463939e-06)] meta=ApiMeta(api_version=ApiMetaApiVersion(version='2', is_deprecated=None, is_experimental=None), billed_units=ApiMetaBilledUnits(images=None, input_tokens=None, output_tokens=None, search_units=1.0, classifications=None), tokens=None, warnings=None)\n",
      "Rank: 1\n",
      "Score: 0.01798621\n",
      "Document: {'text': 'Health and Wellness Benefits: We care about your well-being and offer gym memberships, on-site yoga classes, and comprehensive health insurance.'}\n",
      "\n",
      "Rank: 2\n",
      "Score: 8.463939e-06\n",
      "Document: {'text': 'Performance Reviews Frequency: We conduct informal check-ins every quarter and formal performance reviews twice a year.'}\n",
      "\n"
     ]
    }
   ],
   "source": [
    "import cohere\n",
    "co = cohere.ClientV2(api_key=COHERE_API_KEY) # Get your free API key: https://dashboard.cohere.com/api-keys\n",
    "\n",
    "# Define the documents\n",
    "faqs_short = [\n",
    "    {\"text\": \"Reimbursing Travel Expenses: Easily manage your travel expenses by submitting them through our finance tool. Approvals are prompt and straightforward.\"},\n",
    "    {\"text\": \"Working from Abroad: Working remotely from another country is possible. Simply coordinate with your manager and ensure your availability during core hours.\"},\n",
    "    {\"text\": \"Health and Wellness Benefits: We care about your well-being and offer gym memberships, on-site yoga classes, and comprehensive health insurance.\"},\n",
    "    {\"text\": \"Performance Reviews Frequency: We conduct informal check-ins every quarter and formal performance reviews twice a year.\"}\n",
    "]\n",
    "\n",
    "# Add the user query\n",
    "query = \"Are there fitness-related perks?\"\n",
    "# Rerank the documents\n",
    "results = co.rerank(query=query,\n",
    "                    documents=faqs_short,\n",
    "                    top_n=2,\n",
    "                    model='rerank-english-v3.0')\n",
    "print(results)\n",
    "\n",
    "# Display the reranking results\n",
    "def return_results(results, documents):    \n",
    "    for idx, result in enumerate(results.results):\n",
    "        print(f\"Rank: {idx+1}\") \n",
    "        print(f\"Score: {result.relevance_score}\")\n",
    "        print(f\"Document: {documents[result.index]}\\n\")\n",
    "    \n",
    "return_results(results, faqs_short)"
   ]
  }
 ],
 "metadata": {
  "kernelspec": {
   "display_name": ".venv",
   "language": "python",
   "name": "python3"
  },
  "language_info": {
   "codemirror_mode": {
    "name": "ipython",
    "version": 3
   },
   "file_extension": ".py",
   "mimetype": "text/x-python",
   "name": "python",
   "nbconvert_exporter": "python",
   "pygments_lexer": "ipython3",
   "version": "3.12.8"
  }
 },
 "nbformat": 4,
 "nbformat_minor": 2
}
