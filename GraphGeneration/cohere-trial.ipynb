{
 "cells": [
  {
   "cell_type": "code",
   "execution_count": 12,
   "metadata": {},
   "outputs": [],
   "source": [
    "## Code base used as reference: https://python.langchain.com/docs/integrations/providers/cohere/\n",
    "from dotenv import load_dotenv\n",
    "# Load environment variables from .env file\n",
    "load_dotenv()\n",
    "model=\"command-xlarge\""
   ]
  },
  {
   "cell_type": "markdown",
   "metadata": {},
   "source": [
    "## Cohere Embedding Model Options:  \n",
    "Cohere has two main “families” of generative models—Command and Base—each with different sizes (light, medium, xlarge).\n",
    "1. Command Family\n",
    "    * command-light\n",
    "    * command-medium\n",
    "    * command-xlarge\n",
    "    * (Sometimes referred to simply as command when using the default version)\n",
    "2. Base Family\n",
    "    * base-light\n",
    "    * base-medium\n",
    "    * base-xlarge\n",
    "    * (Sometimes referred to simply as base when using the default version)"
   ]
  },
  {
   "cell_type": "code",
   "execution_count": 13,
   "metadata": {},
   "outputs": [
    {
     "name": "stdout",
     "output_type": "stream",
     "text": [
      "Who's there?\n"
     ]
    }
   ],
   "source": [
    "from langchain_cohere import ChatCohere\n",
    "from langchain_core.messages import HumanMessage\n",
    "chat = ChatCohere(model=model)\n",
    "messages = [HumanMessage(content=\"knock knock\")]\n",
    "print(chat.invoke(messages).content)"
   ]
  },
  {
   "cell_type": "markdown",
   "metadata": {},
   "source": [
    "## LLM"
   ]
  },
  {
   "cell_type": "code",
   "execution_count": 14,
   "metadata": {},
   "outputs": [
    {
     "name": "stdout",
     "output_type": "stream",
     "text": [
      "Command is the name of Cohere's flagship large language model, but there is no variant of Command named 'X-Large'.\n"
     ]
    }
   ],
   "source": [
    "from langchain_cohere import ChatCohere\n",
    "from langchain_core.messages import HumanMessage\n",
    "chat = ChatCohere(model=model)\n",
    "messages = [HumanMessage(model)]\n",
    "print(chat.invoke(messages).content)"
   ]
  },
  {
   "cell_type": "code",
   "execution_count": 15,
   "metadata": {},
   "outputs": [
    {
     "name": "stdout",
     "output_type": "stream",
     "text": [
      " Of course! Here are a few suggestions for pet names: \n",
      "\n",
      "- Bubbles \n",
      "- Cutie Pie\n",
      "- Sweetie\n",
      "- Honey Bunch\n",
      "- Baby Girl/Boy\n",
      "\n",
      "These are just a few suggestions, you may want to consider something that relates to a positive memory or experience you have shared together. \n"
     ]
    }
   ],
   "source": [
    "from langchain_cohere.llms import Cohere\n",
    "\n",
    "llm = Cohere()\n",
    "print(llm.invoke(\"Come up with a pet name\"))"
   ]
  },
  {
   "cell_type": "markdown",
   "metadata": {},
   "source": [
    "## Tool calling"
   ]
  },
  {
   "cell_type": "code",
   "execution_count": 16,
   "metadata": {},
   "outputs": [
    {
     "name": "stdout",
     "output_type": "stream",
     "text": [
      "The value of magic_function(2) is **12**.\n"
     ]
    }
   ],
   "source": [
    "from langchain_cohere import ChatCohere\n",
    "from langchain_core.messages import (\n",
    "    HumanMessage,\n",
    "    ToolMessage,\n",
    ")\n",
    "from langchain_core.tools import tool\n",
    "\n",
    "@tool\n",
    "def magic_function(number: int) -> int:\n",
    "    \"\"\"Applies a magic operation to an integer\n",
    "\n",
    "    Args:\n",
    "        number: Number to have magic operation performed on\n",
    "    \"\"\"\n",
    "    return number + 10\n",
    "\n",
    "def invoke_tools(tool_calls, messages):\n",
    "    for tool_call in tool_calls:\n",
    "        selected_tool = {\"magic_function\":magic_function}[\n",
    "            tool_call[\"name\"].lower()\n",
    "        ]\n",
    "        tool_output = selected_tool.invoke(tool_call[\"args\"])\n",
    "        messages.append(ToolMessage(tool_output, tool_call_id=tool_call[\"id\"]))\n",
    "    return messages\n",
    "\n",
    "tools = [magic_function]\n",
    "\n",
    "llm = ChatCohere()\n",
    "llm_with_tools = llm.bind_tools(tools=tools)\n",
    "messages = [\n",
    "    HumanMessage(\n",
    "        content=\"What is the value of magic_function(2)?\"\n",
    "    )\n",
    "]\n",
    "\n",
    "res = llm_with_tools.invoke(messages)\n",
    "while res.tool_calls:\n",
    "    messages.append(res)\n",
    "    messages = invoke_tools(res.tool_calls, messages)\n",
    "    res = llm_with_tools.invoke(messages)\n",
    "\n",
    "print(res.content)"
   ]
  },
  {
   "cell_type": "markdown",
   "metadata": {},
   "source": [
    "## ReACT"
   ]
  },
  {
   "cell_type": "code",
   "execution_count": 17,
   "metadata": {},
   "outputs": [
    {
     "name": "stdout",
     "output_type": "stream",
     "text": [
      "\n",
      "\n",
      "\u001b[1m> Entering new AgentExecutor chain...\u001b[0m\n",
      "\u001b[32;1m\u001b[1;3m\n",
      "I will search for 'In what year was the company that was founded as Sound of Music added to the S&P 500?'\n",
      "{'tool_name': 'internet_search', 'parameters': {'query': 'In what year was the company that was founded as Sound of Music added to the S&P 500?'}}\n",
      "\u001b[0m\u001b[36;1m\u001b[1;3m[{'url': 'https://www.facebook.com/Commish.Joe.Atkins/posts/57-years-ago-today-west-st-paul-resident-richard-schulze-founded-the-sound-of-mu/719189290019721/', 'content': '57 years ago today. West St. Paul resident Richard Schulze founded the Sound of Music, opening his first store in town on August 22, 1966. The company expanded to nine stores, and after a tornado'}, {'url': 'https://historydraft.com/story/best-buy/timeline/841', 'content': \"Best Buy announced the shutdown of the Future Shop chain in Canada\\nOn March 28, 2015, Best Buy announced the shutdown of the Future Shop chain in Canada; 65 of its 131 former locations were converted into Best Buy locations, while the rest (primarily those in close proximity to an existing Best Buy) were closed permanently.\\n Best Buy Company, Inc\\nIn 1983, with seven stores and $10 million in annual sales, Sound of Music was renamed Best Buy Company, Inc.\\nBest Buy debuted on the New York Stock Exchange\\nBest Buy was taken public in 1985, and two years later it debuted on the New York Stock Exchange.\\n The company closed all of its Best Buy-branded stores in China\\nThe company closed all of its Best Buy-branded stores in China by February 2011, when it merged Best Buy China's operations with Jiangsu Five Star, which had become a wholly-owned subsidiary of Best Buy in 2009.\\n Best Buy announced that it would start selling musical instruments and related gear in over 80 of its retail stores\\nIn July 2008, Best Buy announced that it would start selling musical instruments and related gear in over 80 of its retail stores, making the company the second-largest musical-instrument distributor in the US.\\n Best Buy hired Virtucom Group to revamp Best Buy's website and handle all of the company's online content\\nIn January 2004, Best Buy hired Virtucom Group to revamp Best Buy's website and handle all of the company's online content.\\n\"}, {'url': 'https://www.companieshistory.com/best-buy/', 'content': 'APA Corporation\\nWarner Bros.\\nWarner Bros. Discovery\\nDelhaize Group\\nAPA Corporation\\nWarner Bros.\\nWarner Bros. Discovery\\nDelhaize Group\\nAPA Corporation\\nWarner Bros.\\nWarner Bros. Discovery\\nDelhaize Group\\nAPA Corporation\\nWarner Bros.\\nWarner Bros. Discovery\\nDelhaize Group\\nBest Buy\\nBest Buy Co., Inc.\\xa0history, profile and\\xa0history video\\nBest Buy Co., Inc. is a multinational retailer, which provides consumer electronics, home office products, entertainment products, appliances and related services. In December, the first Turkish Best Buy opened in\\xa0İzmir.\\n2010s\\nIn April 2010, Best Buy opened its first\\xa0United Kingdom-based Best Buy-branded store in\\xa0Thurrock.\\xa0 “\\n“Best Buy\\xa0History\\nEarly history\\nIn 1966, Richard M. Schulze and a business partner opened Sound of Music, an electronics store specializing in\\xa0high fidelity\\xa0stereos in\\xa0Saint Paul, Minnesota.\\xa0 Best Buy also expanded its Geek Squad market tests in March, opening Geek Squad precincts in\\xa0FedEx Kinkos\\xa0stores located in\\xa0Indianapolis, Indiana\\xa0and\\xa0Charlotte, North Carolina.\\xa0 Best Buy stores in the U.S. surpassed the 600-store mark and the company opened its first global-sourcing office in\\xa0Shanghai, China\\xa0in 2003.\\xa0'}, {'url': 'https://www.qad.com/blog/2019/10/sp-500-companies-over-time', 'content': 'Each graphic represents a 25-year period of change on the S&P 500, the first covering 1970 to 1994, and the second covering 1995 to the present. Years are listed on the center line, with the rectangles above that line representing a company that was added to the index that year and rectangles below representing those companies taken off, all'}]\u001b[0m\u001b[32;1m\u001b[1;3m\n",
      "I found out that Sound of Music was founded in 1966, and was renamed Best Buy Company, Inc. in 1983. I will now search for 'When was Best Buy added to the S&P 500?'\n",
      "{'tool_name': 'internet_search', 'parameters': {'query': 'When was Best Buy added to the S&P 500?'}}\n",
      "\u001b[0m\u001b[36;1m\u001b[1;3m[{'url': 'https://www.annualreports.com/HostedData/AnnualReportArchive/b/NYSE_BBY_2000.pdf', 'content': \"Best Buy was recognized as one of Fortune magazine's 10 best-performing stocks of the '90s. As a recent inductee to the S&P 500 Index on June 29, 1999, we placed 25th on Business Week 's fourth annual performance ranking of companies in the S&P 500.\"}, {'url': 'https://www.barchart.com/story/news/30206978/is-best-buy-stock-underperforming-the-s-p-500', 'content': \"Best Buy has underperformed the S&P 500 over the past year, but analysts are moderately optimistic about the stock's prospects.\"}, {'url': 'https://www.nasdaq.com/articles/best-buy-stock-underperforming-sp-500', 'content': \"Best Buy has underperformed the S&P 500 over the past year, but analysts are moderately optimistic about the stock's prospects. ... To add symbols: Type a symbol or company name. When the symbol\"}, {'url': 'https://www.companieshistory.com/best-buy/', 'content': 'APA Corporation\\nWarner Bros.\\nWarner Bros. Discovery\\nDelhaize Group\\nAPA Corporation\\nWarner Bros.\\nWarner Bros. Discovery\\nDelhaize Group\\nAPA Corporation\\nWarner Bros.\\nWarner Bros. Discovery\\nDelhaize Group\\nAPA Corporation\\nWarner Bros.\\nWarner Bros. Discovery\\nDelhaize Group\\nBest Buy\\nBest Buy Co., Inc.\\xa0history, profile and\\xa0history video\\nBest Buy Co., Inc. is a multinational retailer, which provides consumer electronics, home office products, entertainment products, appliances and related services. In December, the first Turkish Best Buy opened in\\xa0İzmir.\\n2010s\\nIn April 2010, Best Buy opened its first\\xa0United Kingdom-based Best Buy-branded store in\\xa0Thurrock.\\xa0 “\\n“Best Buy\\xa0History\\nEarly history\\nIn 1966, Richard M. Schulze and a business partner opened Sound of Music, an electronics store specializing in\\xa0high fidelity\\xa0stereos in\\xa0Saint Paul, Minnesota.\\xa0 Best Buy also expanded its Geek Squad market tests in March, opening Geek Squad precincts in\\xa0FedEx Kinkos\\xa0stores located in\\xa0Indianapolis, Indiana\\xa0and\\xa0Charlotte, North Carolina.\\xa0 Best Buy stores in the U.S. surpassed the 600-store mark and the company opened its first global-sourcing office in\\xa0Shanghai, China\\xa0in 2003.\\xa0'}]\u001b[0m\u001b[32;1m\u001b[1;3mRelevant Documents: 0,1,2,4,5,6,7\n",
      "Cited Documents: 0,1,2,4\n",
      "Answer: Best Buy, the company that was founded as Sound of Music, was added to the S&P 500 on June 29, 1999.\n",
      "Grounded answer: <co: 1,2,4>Best Buy</co: 1,2,4>, the company that was founded as Sound of Music, was added to the S&P 500 on <co: 4>June 29</co: 4>, <co: 4>1999.</co: 4>\u001b[0m\n",
      "\n",
      "\u001b[1m> Finished chain.\u001b[0m\n"
     ]
    },
    {
     "data": {
      "text/plain": [
       "{'input': 'In what year was the company that was founded as Sound of Music added to the S&P 500?',\n",
       " 'output': 'Best Buy, the company that was founded as Sound of Music, was added to the S&P 500 on June 29, 1999.',\n",
       " 'citations': [CohereCitation(start=0, end=8, text='Best Buy', documents=[{'url': 'https://historydraft.com/story/best-buy/timeline/841', 'content': \"Best Buy announced the shutdown of the Future Shop chain in Canada\\nOn March 28, 2015, Best Buy announced the shutdown of the Future Shop chain in Canada; 65 of its 131 former locations were converted into Best Buy locations, while the rest (primarily those in close proximity to an existing Best Buy) were closed permanently.\\n Best Buy Company, Inc\\nIn 1983, with seven stores and $10 million in annual sales, Sound of Music was renamed Best Buy Company, Inc.\\nBest Buy debuted on the New York Stock Exchange\\nBest Buy was taken public in 1985, and two years later it debuted on the New York Stock Exchange.\\n The company closed all of its Best Buy-branded stores in China\\nThe company closed all of its Best Buy-branded stores in China by February 2011, when it merged Best Buy China's operations with Jiangsu Five Star, which had become a wholly-owned subsidiary of Best Buy in 2009.\\n Best Buy announced that it would start selling musical instruments and related gear in over 80 of its retail stores\\nIn July 2008, Best Buy announced that it would start selling musical instruments and related gear in over 80 of its retail stores, making the company the second-largest musical-instrument distributor in the US.\\n Best Buy hired Virtucom Group to revamp Best Buy's website and handle all of the company's online content\\nIn January 2004, Best Buy hired Virtucom Group to revamp Best Buy's website and handle all of the company's online content.\\n\", 'id': 'doc_1'}, {'url': 'https://www.companieshistory.com/best-buy/', 'content': 'APA Corporation\\nWarner Bros.\\nWarner Bros. Discovery\\nDelhaize Group\\nAPA Corporation\\nWarner Bros.\\nWarner Bros. Discovery\\nDelhaize Group\\nAPA Corporation\\nWarner Bros.\\nWarner Bros. Discovery\\nDelhaize Group\\nAPA Corporation\\nWarner Bros.\\nWarner Bros. Discovery\\nDelhaize Group\\nBest Buy\\nBest Buy Co., Inc.\\xa0history, profile and\\xa0history video\\nBest Buy Co., Inc. is a multinational retailer, which provides consumer electronics, home office products, entertainment products, appliances and related services. In December, the first Turkish Best Buy opened in\\xa0İzmir.\\n2010s\\nIn April 2010, Best Buy opened its first\\xa0United Kingdom-based Best Buy-branded store in\\xa0Thurrock.\\xa0 “\\n“Best Buy\\xa0History\\nEarly history\\nIn 1966, Richard M. Schulze and a business partner opened Sound of Music, an electronics store specializing in\\xa0high fidelity\\xa0stereos in\\xa0Saint Paul, Minnesota.\\xa0 Best Buy also expanded its Geek Squad market tests in March, opening Geek Squad precincts in\\xa0FedEx Kinkos\\xa0stores located in\\xa0Indianapolis, Indiana\\xa0and\\xa0Charlotte, North Carolina.\\xa0 Best Buy stores in the U.S. surpassed the 600-store mark and the company opened its first global-sourcing office in\\xa0Shanghai, China\\xa0in 2003.\\xa0', 'id': 'doc_2'}, {'url': 'https://www.annualreports.com/HostedData/AnnualReportArchive/b/NYSE_BBY_2000.pdf', 'content': \"Best Buy was recognized as one of Fortune magazine's 10 best-performing stocks of the '90s. As a recent inductee to the S&P 500 Index on June 29, 1999, we placed 25th on Business Week 's fourth annual performance ranking of companies in the S&P 500.\", 'id': 'doc_4'}], document_ids={'doc_4', 'doc_1', 'doc_2'}),\n",
       "  CohereCitation(start=86, end=93, text='June 29', documents=[{'url': 'https://www.annualreports.com/HostedData/AnnualReportArchive/b/NYSE_BBY_2000.pdf', 'content': \"Best Buy was recognized as one of Fortune magazine's 10 best-performing stocks of the '90s. As a recent inductee to the S&P 500 Index on June 29, 1999, we placed 25th on Business Week 's fourth annual performance ranking of companies in the S&P 500.\", 'id': 'doc_4'}], document_ids={'doc_4'}),\n",
       "  CohereCitation(start=95, end=100, text='1999.', documents=[{'url': 'https://www.annualreports.com/HostedData/AnnualReportArchive/b/NYSE_BBY_2000.pdf', 'content': \"Best Buy was recognized as one of Fortune magazine's 10 best-performing stocks of the '90s. As a recent inductee to the S&P 500 Index on June 29, 1999, we placed 25th on Business Week 's fourth annual performance ranking of companies in the S&P 500.\", 'id': 'doc_4'}], document_ids={'doc_4'})]}"
      ]
     },
     "execution_count": 17,
     "metadata": {},
     "output_type": "execute_result"
    }
   ],
   "source": [
    "from langchain_community.tools.tavily_search import TavilySearchResults\n",
    "from langchain_cohere import ChatCohere, create_cohere_react_agent\n",
    "from langchain_core.prompts import ChatPromptTemplate\n",
    "from langchain.agents import AgentExecutor\n",
    "\n",
    "llm = ChatCohere()\n",
    "\n",
    "internet_search = TavilySearchResults(max_results=4)\n",
    "internet_search.name = \"internet_search\"\n",
    "internet_search.description = \"Route a user query to the internet\"\n",
    "\n",
    "prompt = ChatPromptTemplate.from_template(\"{input}\")\n",
    "\n",
    "agent = create_cohere_react_agent(\n",
    "    llm,\n",
    "    [internet_search],\n",
    "    prompt\n",
    ")\n",
    "\n",
    "agent_executor = AgentExecutor(agent=agent, tools=[internet_search], verbose=True)\n",
    "\n",
    "agent_executor.invoke({\n",
    "    \"input\": \"In what year was the company that was founded as Sound of Music added to the S&P 500?\",\n",
    "})"
   ]
  },
  {
   "cell_type": "markdown",
   "metadata": {},
   "source": [
    "## Cohere Embedding Model Options:  \n",
    "- embed-english-v2.0 : General-purpose embeddings for English text.\n",
    "\n",
    "- embed-english-light-v2.0\n",
    "A lighter-weight model for English, optimized for speed and smaller resource usage.\n",
    "\n",
    "- embed-multilingual-v2.0\n",
    "Designed for multilingual text (supporting multiple languages), enabling cross-lingual semantic tasks.\n",
    "\n",
    "- embed-multilingual-light-v2.0\n",
    "A lighter-weight multilingual model, similar to embed-english-light-v2.0 but supporting multiple languages."
   ]
  },
  {
   "cell_type": "code",
   "execution_count": 18,
   "metadata": {},
   "outputs": [
    {
     "name": "stderr",
     "output_type": "stream",
     "text": [
      "/var/folders/1t/7cjrsy2949n9nwlmm_7d_c6c0000gn/T/ipykernel_82926/3327221834.py:5: LangChainDeprecationWarning: The class `CohereRagRetriever` was deprecated in LangChain 0.0.30 and will be removed in 1.0. An updated version of the class exists in the :class:`~langchain-cohere package and should be used instead. To use it run `pip install -U :class:`~langchain-cohere` and import as `from :class:`~langchain_cohere import CohereRagRetriever``.\n",
      "  rag = CohereRagRetriever(llm=ChatCohere(model=model), model=\"embed-english-v2.0\")\n",
      "/Users/denizaskin/Knowledge-Graph/.venv/lib/python3.11/site-packages/langchain_core/language_models/chat_models.py:851: LangChainDeprecationWarning: The 'connectors' parameter is deprecated as of version 0.3.3.\n",
      "Please use the 'tools' parameter instead.\n",
      "  result = self._generate(\n"
     ]
    },
    {
     "name": "stdout",
     "output_type": "stream",
     "text": [
      "Cohere Inc. is a Canadian multinational technology company focused on artificial intelligence for the enterprise, specializing in large language models. Cohere was founded in 2019 by Aidan Gomez, Ivan Zhang, and Nick Frosst, and is headquartered in Toronto and San Francisco, with offices in Palo Alto, London, and New York City.\n",
      "\n",
      "In 2017, a team of researchers at Google Brain introduced the transformer machine learning architecture in \"Attention Is All You Need,\" which demonstrated state-of-the-art performance on a variety of natural language processing tasks. In 2019, Aidan Gomez, one of its co-authors, along with Nick Frosst, another researcher at Google Brain, founded Cohere with Ivan Zhang, with whom Gomez had done research at FOR.ai. All of the co-founders attended University of Toronto.\n"
     ]
    }
   ],
   "source": [
    "from langchain_cohere import ChatCohere\n",
    "from langchain.retrievers import CohereRagRetriever\n",
    "from langchain_core.documents import Document\n",
    "\n",
    "rag = CohereRagRetriever(llm=ChatCohere(model=model), model=\"embed-english-v2.0\")\n",
    "print(rag.invoke(\"What is cohere ai?\")[0].page_content)"
   ]
  },
  {
   "cell_type": "code",
   "execution_count": 19,
   "metadata": {},
   "outputs": [
    {
     "ename": "UnauthorizedError",
     "evalue": "status_code: 401, body: {'message': 'invalid api token'}",
     "output_type": "error",
     "traceback": [
      "\u001b[0;31m---------------------------------------------------------------------------\u001b[0m",
      "\u001b[0;31mUnauthorizedError\u001b[0m                         Traceback (most recent call last)",
      "Cell \u001b[0;32mIn[19], line 16\u001b[0m\n\u001b[1;32m     14\u001b[0m query \u001b[38;5;241m=\u001b[39m \u001b[38;5;124m\"\u001b[39m\u001b[38;5;124mAre there fitness-related perks?\u001b[39m\u001b[38;5;124m\"\u001b[39m\n\u001b[1;32m     15\u001b[0m \u001b[38;5;66;03m# Rerank the documents\u001b[39;00m\n\u001b[0;32m---> 16\u001b[0m results \u001b[38;5;241m=\u001b[39m \u001b[43mco\u001b[49m\u001b[38;5;241;43m.\u001b[39;49m\u001b[43mrerank\u001b[49m\u001b[43m(\u001b[49m\u001b[43mquery\u001b[49m\u001b[38;5;241;43m=\u001b[39;49m\u001b[43mquery\u001b[49m\u001b[43m,\u001b[49m\n\u001b[1;32m     17\u001b[0m \u001b[43m                    \u001b[49m\u001b[43mdocuments\u001b[49m\u001b[38;5;241;43m=\u001b[39;49m\u001b[43mfaqs_short\u001b[49m\u001b[43m,\u001b[49m\n\u001b[1;32m     18\u001b[0m \u001b[43m                    \u001b[49m\u001b[43mtop_n\u001b[49m\u001b[38;5;241;43m=\u001b[39;49m\u001b[38;5;241;43m2\u001b[39;49m\u001b[43m,\u001b[49m\n\u001b[1;32m     19\u001b[0m \u001b[43m                    \u001b[49m\u001b[43mmodel\u001b[49m\u001b[38;5;241;43m=\u001b[39;49m\u001b[38;5;124;43m'\u001b[39;49m\u001b[38;5;124;43mrerank-english-v3.0\u001b[39;49m\u001b[38;5;124;43m'\u001b[39;49m\u001b[43m)\u001b[49m\n\u001b[1;32m     20\u001b[0m \u001b[38;5;28mprint\u001b[39m(results)\n\u001b[1;32m     22\u001b[0m \u001b[38;5;66;03m# Display the reranking results\u001b[39;00m\n",
      "File \u001b[0;32m~/Knowledge-Graph/.venv/lib/python3.11/site-packages/cohere/v2/client.py:1022\u001b[0m, in \u001b[0;36mV2Client.rerank\u001b[0;34m(self, model, query, documents, top_n, return_documents, max_tokens_per_doc, request_options)\u001b[0m\n\u001b[1;32m   1012\u001b[0m     \u001b[38;5;28;01mraise\u001b[39;00m BadRequestError(\n\u001b[1;32m   1013\u001b[0m         typing\u001b[38;5;241m.\u001b[39mcast(\n\u001b[1;32m   1014\u001b[0m             typing\u001b[38;5;241m.\u001b[39mOptional[typing\u001b[38;5;241m.\u001b[39mAny],\n\u001b[0;32m   (...)\u001b[0m\n\u001b[1;32m   1019\u001b[0m         )\n\u001b[1;32m   1020\u001b[0m     )\n\u001b[1;32m   1021\u001b[0m \u001b[38;5;28;01mif\u001b[39;00m _response\u001b[38;5;241m.\u001b[39mstatus_code \u001b[38;5;241m==\u001b[39m \u001b[38;5;241m401\u001b[39m:\n\u001b[0;32m-> 1022\u001b[0m     \u001b[38;5;28;01mraise\u001b[39;00m UnauthorizedError(\n\u001b[1;32m   1023\u001b[0m         typing\u001b[38;5;241m.\u001b[39mcast(\n\u001b[1;32m   1024\u001b[0m             typing\u001b[38;5;241m.\u001b[39mOptional[typing\u001b[38;5;241m.\u001b[39mAny],\n\u001b[1;32m   1025\u001b[0m             construct_type(\n\u001b[1;32m   1026\u001b[0m                 type_\u001b[38;5;241m=\u001b[39mtyping\u001b[38;5;241m.\u001b[39mOptional[typing\u001b[38;5;241m.\u001b[39mAny],  \u001b[38;5;66;03m# type: ignore\u001b[39;00m\n\u001b[1;32m   1027\u001b[0m                 object_\u001b[38;5;241m=\u001b[39m_response\u001b[38;5;241m.\u001b[39mjson(),\n\u001b[1;32m   1028\u001b[0m             ),\n\u001b[1;32m   1029\u001b[0m         )\n\u001b[1;32m   1030\u001b[0m     )\n\u001b[1;32m   1031\u001b[0m \u001b[38;5;28;01mif\u001b[39;00m _response\u001b[38;5;241m.\u001b[39mstatus_code \u001b[38;5;241m==\u001b[39m \u001b[38;5;241m403\u001b[39m:\n\u001b[1;32m   1032\u001b[0m     \u001b[38;5;28;01mraise\u001b[39;00m ForbiddenError(\n\u001b[1;32m   1033\u001b[0m         typing\u001b[38;5;241m.\u001b[39mcast(\n\u001b[1;32m   1034\u001b[0m             typing\u001b[38;5;241m.\u001b[39mOptional[typing\u001b[38;5;241m.\u001b[39mAny],\n\u001b[0;32m   (...)\u001b[0m\n\u001b[1;32m   1039\u001b[0m         )\n\u001b[1;32m   1040\u001b[0m     )\n",
      "\u001b[0;31mUnauthorizedError\u001b[0m: status_code: 401, body: {'message': 'invalid api token'}"
     ]
    }
   ],
   "source": [
    "# pip install cohere\n",
    "import cohere\n",
    "co = cohere.ClientV2(api_key=\"COHERE_API_KEY\") # Get your free API key: https://dashboard.cohere.com/api-keys\n",
    "\n",
    "# Define the documents\n",
    "faqs_short = [\n",
    "    {\"text\": \"Reimbursing Travel Expenses: Easily manage your travel expenses by submitting them through our finance tool. Approvals are prompt and straightforward.\"},\n",
    "    {\"text\": \"Working from Abroad: Working remotely from another country is possible. Simply coordinate with your manager and ensure your availability during core hours.\"},\n",
    "    {\"text\": \"Health and Wellness Benefits: We care about your well-being and offer gym memberships, on-site yoga classes, and comprehensive health insurance.\"},\n",
    "    {\"text\": \"Performance Reviews Frequency: We conduct informal check-ins every quarter and formal performance reviews twice a year.\"}\n",
    "]\n",
    "\n",
    "# Add the user query\n",
    "query = \"Are there fitness-related perks?\"\n",
    "# Rerank the documents\n",
    "results = co.rerank(query=query,\n",
    "                    documents=faqs_short,\n",
    "                    top_n=2,\n",
    "                    model='rerank-english-v3.0')\n",
    "print(results)\n",
    "\n",
    "# Display the reranking results\n",
    "def return_results(results, documents):    \n",
    "    for idx, result in enumerate(results.results):\n",
    "        print(f\"Rank: {idx+1}\") \n",
    "        print(f\"Score: {result.relevance_score}\")\n",
    "        print(f\"Document: {documents[result.index]}\\n\")\n",
    "    \n",
    "return_results(results, faqs_short)"
   ]
  }
 ],
 "metadata": {
  "kernelspec": {
   "display_name": ".venv",
   "language": "python",
   "name": "python3"
  },
  "language_info": {
   "codemirror_mode": {
    "name": "ipython",
    "version": 3
   },
   "file_extension": ".py",
   "mimetype": "text/x-python",
   "name": "python",
   "nbconvert_exporter": "python",
   "pygments_lexer": "ipython3",
   "version": "3.11.9"
  }
 },
 "nbformat": 4,
 "nbformat_minor": 2
}
