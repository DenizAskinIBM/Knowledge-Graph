{
 "cells": [
  {
   "cell_type": "code",
   "execution_count": 2,
   "metadata": {},
   "outputs": [],
   "source": [
    "## Code base used as reference: https://python.langchain.com/docs/integrations/providers/cohere/\n",
    "from dotenv import load_dotenv\n",
    "# Load environment variables from .env file\n",
    "load_dotenv()\n",
    "model=\"command-xlarge\""
   ]
  },
  {
   "cell_type": "markdown",
   "metadata": {},
   "source": [
    "## Cohere Embedding Model Options:  \n",
    "Cohere has two main “families” of generative models—Command and Base—each with different sizes (light, medium, xlarge).\n",
    "1. Command Family\n",
    "    * command-light\n",
    "    * command-medium\n",
    "    * command-xlarge\n",
    "    * (Sometimes referred to simply as command when using the default version)\n",
    "2. Base Family\n",
    "    * base-light\n",
    "    * base-medium\n",
    "    * base-xlarge\n",
    "    * (Sometimes referred to simply as base when using the default version)"
   ]
  },
  {
   "cell_type": "code",
   "execution_count": 19,
   "metadata": {},
   "outputs": [
    {
     "name": "stdout",
     "output_type": "stream",
     "text": [
      "Who's there?\n"
     ]
    }
   ],
   "source": [
    "from langchain_cohere import ChatCohere\n",
    "from langchain_core.messages import HumanMessage\n",
    "chat = ChatCohere(model=model)\n",
    "messages = [HumanMessage(content=\"knock knock\")]\n",
    "print(chat.invoke(messages).content)"
   ]
  },
  {
   "cell_type": "markdown",
   "metadata": {},
   "source": [
    "## LLM"
   ]
  },
  {
   "cell_type": "code",
   "execution_count": 20,
   "metadata": {},
   "outputs": [
    {
     "name": "stdout",
     "output_type": "stream",
     "text": [
      "I cannot directly access the internet in order to search for the model you are referencing. However, if you describe the functionality and use of this model, I may be able to elaborate on its relevance and applications.\n"
     ]
    }
   ],
   "source": [
    "from langchain_cohere import ChatCohere\n",
    "from langchain_core.messages import HumanMessage\n",
    "chat = ChatCohere(model=model)\n",
    "messages = [HumanMessage(model)]\n",
    "print(chat.invoke(messages).content)"
   ]
  },
  {
   "cell_type": "code",
   "execution_count": 21,
   "metadata": {},
   "outputs": [
    {
     "name": "stdout",
     "output_type": "stream",
     "text": [
      " Of course! Here are some suggestions for pet names: \n",
      "\n",
      "- Sweetheart \n",
      "- Honeybunch \n",
      "- Darling \n",
      "- Cutie \n",
      "- Sweetie \n",
      "- Pumpkin \n",
      "- Dove \n",
      "- Snugglebug \n",
      "\n",
      "These are some gentle, affectionate names you could call someone you care about. You may choose one that you feel best represents your relationship with the recipient. \n",
      "\n",
      "Let me know if you would like me to provide additional options or more personalized suggestions! \n"
     ]
    }
   ],
   "source": [
    "from langchain_cohere.llms import Cohere\n",
    "\n",
    "llm = Cohere()\n",
    "print(llm.invoke(\"Come up with a pet name\"))"
   ]
  },
  {
   "cell_type": "markdown",
   "metadata": {},
   "source": [
    "## Tool calling"
   ]
  },
  {
   "cell_type": "code",
   "execution_count": 22,
   "metadata": {},
   "outputs": [
    {
     "name": "stdout",
     "output_type": "stream",
     "text": [
      "The value of magic_function(2) is **12**.\n"
     ]
    }
   ],
   "source": [
    "from langchain_cohere import ChatCohere\n",
    "from langchain_core.messages import (\n",
    "    HumanMessage,\n",
    "    ToolMessage,\n",
    ")\n",
    "from langchain_core.tools import tool\n",
    "\n",
    "@tool\n",
    "def magic_function(number: int) -> int:\n",
    "    \"\"\"Applies a magic operation to an integer\n",
    "\n",
    "    Args:\n",
    "        number: Number to have magic operation performed on\n",
    "    \"\"\"\n",
    "    return number + 10\n",
    "\n",
    "def invoke_tools(tool_calls, messages):\n",
    "    for tool_call in tool_calls:\n",
    "        selected_tool = {\"magic_function\":magic_function}[\n",
    "            tool_call[\"name\"].lower()\n",
    "        ]\n",
    "        tool_output = selected_tool.invoke(tool_call[\"args\"])\n",
    "        messages.append(ToolMessage(tool_output, tool_call_id=tool_call[\"id\"]))\n",
    "    return messages\n",
    "\n",
    "tools = [magic_function]\n",
    "\n",
    "llm = ChatCohere()\n",
    "llm_with_tools = llm.bind_tools(tools=tools)\n",
    "messages = [\n",
    "    HumanMessage(\n",
    "        content=\"What is the value of magic_function(2)?\"\n",
    "    )\n",
    "]\n",
    "\n",
    "res = llm_with_tools.invoke(messages)\n",
    "while res.tool_calls:\n",
    "    messages.append(res)\n",
    "    messages = invoke_tools(res.tool_calls, messages)\n",
    "    res = llm_with_tools.invoke(messages)\n",
    "\n",
    "print(res.content)"
   ]
  },
  {
   "cell_type": "markdown",
   "metadata": {},
   "source": [
    "## ReACT"
   ]
  },
  {
   "cell_type": "code",
   "execution_count": 5,
   "metadata": {},
   "outputs": [
    {
     "name": "stdout",
     "output_type": "stream",
     "text": [
      "\n",
      "\n",
      "\u001b[1m> Entering new AgentExecutor chain...\u001b[0m\n",
      "\u001b[32;1m\u001b[1;3m\n",
      "I will search for 'In what year was the company that was founded as Sound of Music added to the S&P 500?'\n",
      "{'tool_name': 'internet_search', 'parameters': {'query': 'In what year was the company that was founded as Sound of Music added to the S&P 500?'}}\n",
      "\u001b[0m\u001b[36;1m\u001b[1;3m[{'url': 'https://www.companieshistory.com/best-buy/', 'content': \"The company changed its name from Sound of Music, Inc. to Best Buy Co., Inc. in 1983. Best Buy was founded by Richard M. Schulze in 1966 and is headquartered in Richfield, MN. ... In 1999, Best Buy was added to Standard & Poor's S&P 500. 2000s. In 2000, Best Buy formed Redline Entertainment, an independent music label and action-sports video\"}, {'url': 'https://historydraft.com/story/best-buy/timeline/841', 'content': 'Best Buy Co., Inc. is an American multinational consumer electronics retailer headquartered in Richfield, Minnesota. Originally founded by Richard M. Schulze and James Wheeler in 1966 as an audio specialty store called Sound of Music, it was rebranded under its current name with an emphasis on consumer electronics in 1983.'}, {'url': 'https://www.chegg.com/homework-help/questions-and-answers/read-case-study-fill-swot-analysis-outside-research-best-buy-co-incjune-11-2019-best-buy-b-q94360584', 'content': \"Since 2014, Best Buy's stock performance has exceeded the S&P 500, but it has lagged behind Amazon- firm that has redefined retail. ... Together with his business partner, James Wheeler, Richard Schulze founded Sound of Music, an audio specialty store, in Minnesota in 1966. ... The company added a TV delivery and installation service in January\"}, {'url': 'https://en.wikipedia.org/wiki/Best_Buy', 'content': 'Best Buy Co., Inc. is an American multinational consumer electronics retailer headquartered in Richfield, Minnesota.Originally founded by Richard M. Schulze and James Wheeler in 1966 as an audio specialty store called Sound of Music, it was rebranded under its current name with an emphasis on consumer electronics in 1983.. Best Buy operates internationally in Canada, and formerly operated in'}]\u001b[0m\u001b[32;1m\u001b[1;3mRelevant Documents: 0,1,2,3\n",
      "Cited Documents: 0,1,2,3\n",
      "Answer: Best Buy Co., Inc. was added to the S&P 500 in 1999. The company was founded as Sound of Music in 1966 and changed its name to Best Buy in 1983.\n",
      "Grounded answer: <co: 0,1,2,3>Best Buy Co., Inc.</co: 0,1,2,3> was added to the S&P 500 in <co: 0>1999.</co: 0> The company was founded as Sound of Music in <co: 0,1,2,3>1966</co: 0,1,2,3> and changed its name to Best Buy in <co: 0,1,3>1983.</co: 0,1,3>\u001b[0m\n",
      "\n",
      "\u001b[1m> Finished chain.\u001b[0m\n"
     ]
    },
    {
     "data": {
      "text/plain": [
       "{'input': 'In what year was the company that was founded as Sound of Music added to the S&P 500?',\n",
       " 'output': 'Best Buy Co., Inc. was added to the S&P 500 in 1999. The company was founded as Sound of Music in 1966 and changed its name to Best Buy in 1983.',\n",
       " 'citations': [CohereCitation(start=0, end=18, text='Best Buy Co., Inc.', documents=[{'url': 'https://www.companieshistory.com/best-buy/', 'content': \"The company changed its name from Sound of Music, Inc. to Best Buy Co., Inc. in 1983. Best Buy was founded by Richard M. Schulze in 1966 and is headquartered in Richfield, MN. ... In 1999, Best Buy was added to Standard & Poor's S&P 500. 2000s. In 2000, Best Buy formed Redline Entertainment, an independent music label and action-sports video\", 'id': 'doc_0'}, {'url': 'https://historydraft.com/story/best-buy/timeline/841', 'content': 'Best Buy Co., Inc. is an American multinational consumer electronics retailer headquartered in Richfield, Minnesota. Originally founded by Richard M. Schulze and James Wheeler in 1966 as an audio specialty store called Sound of Music, it was rebranded under its current name with an emphasis on consumer electronics in 1983.', 'id': 'doc_1'}, {'url': 'https://www.chegg.com/homework-help/questions-and-answers/read-case-study-fill-swot-analysis-outside-research-best-buy-co-incjune-11-2019-best-buy-b-q94360584', 'content': \"Since 2014, Best Buy's stock performance has exceeded the S&P 500, but it has lagged behind Amazon- firm that has redefined retail. ... Together with his business partner, James Wheeler, Richard Schulze founded Sound of Music, an audio specialty store, in Minnesota in 1966. ... The company added a TV delivery and installation service in January\", 'id': 'doc_2'}, {'url': 'https://en.wikipedia.org/wiki/Best_Buy', 'content': 'Best Buy Co., Inc. is an American multinational consumer electronics retailer headquartered in Richfield, Minnesota.Originally founded by Richard M. Schulze and James Wheeler in 1966 as an audio specialty store called Sound of Music, it was rebranded under its current name with an emphasis on consumer electronics in 1983.. Best Buy operates internationally in Canada, and formerly operated in', 'id': 'doc_3'}], document_ids={'doc_1', 'doc_3', 'doc_2', 'doc_0'}),\n",
       "  CohereCitation(start=47, end=52, text='1999.', documents=[{'url': 'https://www.companieshistory.com/best-buy/', 'content': \"The company changed its name from Sound of Music, Inc. to Best Buy Co., Inc. in 1983. Best Buy was founded by Richard M. Schulze in 1966 and is headquartered in Richfield, MN. ... In 1999, Best Buy was added to Standard & Poor's S&P 500. 2000s. In 2000, Best Buy formed Redline Entertainment, an independent music label and action-sports video\", 'id': 'doc_0'}], document_ids={'doc_0'}),\n",
       "  CohereCitation(start=98, end=102, text='1966', documents=[{'url': 'https://www.companieshistory.com/best-buy/', 'content': \"The company changed its name from Sound of Music, Inc. to Best Buy Co., Inc. in 1983. Best Buy was founded by Richard M. Schulze in 1966 and is headquartered in Richfield, MN. ... In 1999, Best Buy was added to Standard & Poor's S&P 500. 2000s. In 2000, Best Buy formed Redline Entertainment, an independent music label and action-sports video\", 'id': 'doc_0'}, {'url': 'https://historydraft.com/story/best-buy/timeline/841', 'content': 'Best Buy Co., Inc. is an American multinational consumer electronics retailer headquartered in Richfield, Minnesota. Originally founded by Richard M. Schulze and James Wheeler in 1966 as an audio specialty store called Sound of Music, it was rebranded under its current name with an emphasis on consumer electronics in 1983.', 'id': 'doc_1'}, {'url': 'https://www.chegg.com/homework-help/questions-and-answers/read-case-study-fill-swot-analysis-outside-research-best-buy-co-incjune-11-2019-best-buy-b-q94360584', 'content': \"Since 2014, Best Buy's stock performance has exceeded the S&P 500, but it has lagged behind Amazon- firm that has redefined retail. ... Together with his business partner, James Wheeler, Richard Schulze founded Sound of Music, an audio specialty store, in Minnesota in 1966. ... The company added a TV delivery and installation service in January\", 'id': 'doc_2'}, {'url': 'https://en.wikipedia.org/wiki/Best_Buy', 'content': 'Best Buy Co., Inc. is an American multinational consumer electronics retailer headquartered in Richfield, Minnesota.Originally founded by Richard M. Schulze and James Wheeler in 1966 as an audio specialty store called Sound of Music, it was rebranded under its current name with an emphasis on consumer electronics in 1983.. Best Buy operates internationally in Canada, and formerly operated in', 'id': 'doc_3'}], document_ids={'doc_1', 'doc_3', 'doc_2', 'doc_0'}),\n",
       "  CohereCitation(start=139, end=144, text='1983.', documents=[{'url': 'https://www.companieshistory.com/best-buy/', 'content': \"The company changed its name from Sound of Music, Inc. to Best Buy Co., Inc. in 1983. Best Buy was founded by Richard M. Schulze in 1966 and is headquartered in Richfield, MN. ... In 1999, Best Buy was added to Standard & Poor's S&P 500. 2000s. In 2000, Best Buy formed Redline Entertainment, an independent music label and action-sports video\", 'id': 'doc_0'}, {'url': 'https://historydraft.com/story/best-buy/timeline/841', 'content': 'Best Buy Co., Inc. is an American multinational consumer electronics retailer headquartered in Richfield, Minnesota. Originally founded by Richard M. Schulze and James Wheeler in 1966 as an audio specialty store called Sound of Music, it was rebranded under its current name with an emphasis on consumer electronics in 1983.', 'id': 'doc_1'}, {'url': 'https://en.wikipedia.org/wiki/Best_Buy', 'content': 'Best Buy Co., Inc. is an American multinational consumer electronics retailer headquartered in Richfield, Minnesota.Originally founded by Richard M. Schulze and James Wheeler in 1966 as an audio specialty store called Sound of Music, it was rebranded under its current name with an emphasis on consumer electronics in 1983.. Best Buy operates internationally in Canada, and formerly operated in', 'id': 'doc_3'}], document_ids={'doc_1', 'doc_3', 'doc_0'})]}"
      ]
     },
     "execution_count": 5,
     "metadata": {},
     "output_type": "execute_result"
    }
   ],
   "source": [
    "from langchain_community.tools.tavily_search import TavilySearchResults\n",
    "from langchain_cohere import ChatCohere, create_cohere_react_agent\n",
    "from langchain_core.prompts import ChatPromptTemplate\n",
    "from langchain.agents import AgentExecutor\n",
    "\n",
    "llm = ChatCohere()\n",
    "\n",
    "internet_search = TavilySearchResults(max_results=4)\n",
    "internet_search.name = \"internet_search\"\n",
    "internet_search.description = \"Route a user query to the internet\"\n",
    "\n",
    "prompt = ChatPromptTemplate.from_template(\"{input}\")\n",
    "\n",
    "agent = create_cohere_react_agent(\n",
    "    llm,\n",
    "    [internet_search],\n",
    "    prompt\n",
    ")\n",
    "\n",
    "agent_executor = AgentExecutor(agent=agent, tools=[internet_search], verbose=True)\n",
    "\n",
    "agent_executor.invoke({\n",
    "    \"input\": \"In what year was the company that was founded as Sound of Music added to the S&P 500?\",\n",
    "})"
   ]
  },
  {
   "cell_type": "markdown",
   "metadata": {},
   "source": [
    "## Cohere Embedding Model Options:  \n",
    "- embed-english-v2.0 : General-purpose embeddings for English text.\n",
    "\n",
    "- embed-english-light-v2.0\n",
    "A lighter-weight model for English, optimized for speed and smaller resource usage.\n",
    "\n",
    "- embed-multilingual-v2.0\n",
    "Designed for multilingual text (supporting multiple languages), enabling cross-lingual semantic tasks.\n",
    "\n",
    "- embed-multilingual-light-v2.0\n",
    "A lighter-weight multilingual model, similar to embed-english-light-v2.0 but supporting multiple languages."
   ]
  },
  {
   "cell_type": "code",
   "execution_count": 25,
   "metadata": {},
   "outputs": [
    {
     "name": "stderr",
     "output_type": "stream",
     "text": [
      "/Users/denizaskin/CodeBase/agenticchunking/.venv/lib/python3.11/site-packages/langchain_core/language_models/chat_models.py:851: LangChainDeprecationWarning: The 'connectors' parameter is deprecated as of version 0.3.3.\n",
      "Please use the 'tools' parameter instead.\n",
      "  result = self._generate(\n"
     ]
    },
    {
     "name": "stdout",
     "output_type": "stream",
     "text": [
      "Cohere Inc. is a Canadian multinational technology company focused on artificial intelligence for the enterprise, specializing in large language models. Cohere was founded in 2019 by Aidan Gomez, Ivan Zhang, and Nick Frosst, and is headquartered in Toronto and San Francisco, with offices in Palo Alto, London, and New York City.\n",
      "\n",
      "In 2017, a team of researchers at Google Brain introduced the transformer machine learning architecture in \"Attention Is All You Need,\" which demonstrated state-of-the-art performance on a variety of natural language processing tasks. In 2019, Aidan Gomez, one of its co-authors, along with Nick Frosst, another researcher at Google Brain, founded Cohere with Ivan Zhang, with whom Gomez had done research at FOR.ai. All of the co-founders attended University of Toronto.\n"
     ]
    }
   ],
   "source": [
    "from langchain_cohere import ChatCohere\n",
    "from langchain.retrievers import CohereRagRetriever\n",
    "from langchain_core.documents import Document\n",
    "\n",
    "rag = CohereRagRetriever(llm=ChatCohere(model=model), model=\"embed-english-v2.0\")\n",
    "print(rag.invoke(\"What is cohere ai?\")[0].page_content)"
   ]
  },
  {
   "cell_type": "code",
   "execution_count": 6,
   "metadata": {},
   "outputs": [
    {
     "ename": "UnauthorizedError",
     "evalue": "status_code: 401, body: {'message': 'invalid api token'}",
     "output_type": "error",
     "traceback": [
      "\u001b[0;31m---------------------------------------------------------------------------\u001b[0m",
      "\u001b[0;31mUnauthorizedError\u001b[0m                         Traceback (most recent call last)",
      "Cell \u001b[0;32mIn[6], line 16\u001b[0m\n\u001b[1;32m     14\u001b[0m query \u001b[38;5;241m=\u001b[39m \u001b[38;5;124m\"\u001b[39m\u001b[38;5;124mAre there fitness-related perks?\u001b[39m\u001b[38;5;124m\"\u001b[39m\n\u001b[1;32m     15\u001b[0m \u001b[38;5;66;03m# Rerank the documents\u001b[39;00m\n\u001b[0;32m---> 16\u001b[0m results \u001b[38;5;241m=\u001b[39m \u001b[43mco\u001b[49m\u001b[38;5;241;43m.\u001b[39;49m\u001b[43mrerank\u001b[49m\u001b[43m(\u001b[49m\u001b[43mquery\u001b[49m\u001b[38;5;241;43m=\u001b[39;49m\u001b[43mquery\u001b[49m\u001b[43m,\u001b[49m\n\u001b[1;32m     17\u001b[0m \u001b[43m                    \u001b[49m\u001b[43mdocuments\u001b[49m\u001b[38;5;241;43m=\u001b[39;49m\u001b[43mfaqs_short\u001b[49m\u001b[43m,\u001b[49m\n\u001b[1;32m     18\u001b[0m \u001b[43m                    \u001b[49m\u001b[43mtop_n\u001b[49m\u001b[38;5;241;43m=\u001b[39;49m\u001b[38;5;241;43m2\u001b[39;49m\u001b[43m,\u001b[49m\n\u001b[1;32m     19\u001b[0m \u001b[43m                    \u001b[49m\u001b[43mmodel\u001b[49m\u001b[38;5;241;43m=\u001b[39;49m\u001b[38;5;124;43m'\u001b[39;49m\u001b[38;5;124;43mrerank-english-v3.0\u001b[39;49m\u001b[38;5;124;43m'\u001b[39;49m\u001b[43m)\u001b[49m\n\u001b[1;32m     20\u001b[0m \u001b[38;5;28mprint\u001b[39m(results)\n\u001b[1;32m     22\u001b[0m \u001b[38;5;66;03m# Display the reranking results\u001b[39;00m\n",
      "File \u001b[0;32m~/CodeBase/agenticchunking/.venv/lib/python3.11/site-packages/cohere/v2/client.py:1022\u001b[0m, in \u001b[0;36mV2Client.rerank\u001b[0;34m(self, model, query, documents, top_n, return_documents, max_tokens_per_doc, request_options)\u001b[0m\n\u001b[1;32m   1012\u001b[0m     \u001b[38;5;28;01mraise\u001b[39;00m BadRequestError(\n\u001b[1;32m   1013\u001b[0m         typing\u001b[38;5;241m.\u001b[39mcast(\n\u001b[1;32m   1014\u001b[0m             typing\u001b[38;5;241m.\u001b[39mOptional[typing\u001b[38;5;241m.\u001b[39mAny],\n\u001b[0;32m   (...)\u001b[0m\n\u001b[1;32m   1019\u001b[0m         )\n\u001b[1;32m   1020\u001b[0m     )\n\u001b[1;32m   1021\u001b[0m \u001b[38;5;28;01mif\u001b[39;00m _response\u001b[38;5;241m.\u001b[39mstatus_code \u001b[38;5;241m==\u001b[39m \u001b[38;5;241m401\u001b[39m:\n\u001b[0;32m-> 1022\u001b[0m     \u001b[38;5;28;01mraise\u001b[39;00m UnauthorizedError(\n\u001b[1;32m   1023\u001b[0m         typing\u001b[38;5;241m.\u001b[39mcast(\n\u001b[1;32m   1024\u001b[0m             typing\u001b[38;5;241m.\u001b[39mOptional[typing\u001b[38;5;241m.\u001b[39mAny],\n\u001b[1;32m   1025\u001b[0m             construct_type(\n\u001b[1;32m   1026\u001b[0m                 type_\u001b[38;5;241m=\u001b[39mtyping\u001b[38;5;241m.\u001b[39mOptional[typing\u001b[38;5;241m.\u001b[39mAny],  \u001b[38;5;66;03m# type: ignore\u001b[39;00m\n\u001b[1;32m   1027\u001b[0m                 object_\u001b[38;5;241m=\u001b[39m_response\u001b[38;5;241m.\u001b[39mjson(),\n\u001b[1;32m   1028\u001b[0m             ),\n\u001b[1;32m   1029\u001b[0m         )\n\u001b[1;32m   1030\u001b[0m     )\n\u001b[1;32m   1031\u001b[0m \u001b[38;5;28;01mif\u001b[39;00m _response\u001b[38;5;241m.\u001b[39mstatus_code \u001b[38;5;241m==\u001b[39m \u001b[38;5;241m403\u001b[39m:\n\u001b[1;32m   1032\u001b[0m     \u001b[38;5;28;01mraise\u001b[39;00m ForbiddenError(\n\u001b[1;32m   1033\u001b[0m         typing\u001b[38;5;241m.\u001b[39mcast(\n\u001b[1;32m   1034\u001b[0m             typing\u001b[38;5;241m.\u001b[39mOptional[typing\u001b[38;5;241m.\u001b[39mAny],\n\u001b[0;32m   (...)\u001b[0m\n\u001b[1;32m   1039\u001b[0m         )\n\u001b[1;32m   1040\u001b[0m     )\n",
      "\u001b[0;31mUnauthorizedError\u001b[0m: status_code: 401, body: {'message': 'invalid api token'}"
     ]
    }
   ],
   "source": [
    "# pip install cohere\n",
    "import cohere\n",
    "co = cohere.ClientV2(api_key=\"COHERE_API_KEY\") # Get your free API key: https://dashboard.cohere.com/api-keys\n",
    "\n",
    "# Define the documents\n",
    "faqs_short = [\n",
    "    {\"text\": \"Reimbursing Travel Expenses: Easily manage your travel expenses by submitting them through our finance tool. Approvals are prompt and straightforward.\"},\n",
    "    {\"text\": \"Working from Abroad: Working remotely from another country is possible. Simply coordinate with your manager and ensure your availability during core hours.\"},\n",
    "    {\"text\": \"Health and Wellness Benefits: We care about your well-being and offer gym memberships, on-site yoga classes, and comprehensive health insurance.\"},\n",
    "    {\"text\": \"Performance Reviews Frequency: We conduct informal check-ins every quarter and formal performance reviews twice a year.\"}\n",
    "]\n",
    "\n",
    "# Add the user query\n",
    "query = \"Are there fitness-related perks?\"\n",
    "# Rerank the documents\n",
    "results = co.rerank(query=query,\n",
    "                    documents=faqs_short,\n",
    "                    top_n=2,\n",
    "                    model='rerank-english-v3.0')\n",
    "print(results)\n",
    "\n",
    "# Display the reranking results\n",
    "def return_results(results, documents):    \n",
    "    for idx, result in enumerate(results.results):\n",
    "        print(f\"Rank: {idx+1}\") \n",
    "        print(f\"Score: {result.relevance_score}\")\n",
    "        print(f\"Document: {documents[result.index]}\\n\")\n",
    "    \n",
    "return_results(results, faqs_short)"
   ]
  }
 ],
 "metadata": {
  "kernelspec": {
   "display_name": "Python 3",
   "language": "python",
   "name": "python3"
  },
  "language_info": {
   "codemirror_mode": {
    "name": "ipython",
    "version": 3
   },
   "file_extension": ".py",
   "mimetype": "text/x-python",
   "name": "python",
   "nbconvert_exporter": "python",
   "pygments_lexer": "ipython3",
   "version": "3.11.9"
  }
 },
 "nbformat": 4,
 "nbformat_minor": 2
}
